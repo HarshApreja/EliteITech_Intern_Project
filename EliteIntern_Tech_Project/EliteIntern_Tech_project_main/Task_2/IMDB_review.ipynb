{
 "cells": [
  {
   "cell_type": "markdown",
   "id": "755a48af",
   "metadata": {},
   "source": [
    "**Importing Libraries**"
   ]
  },
  {
   "cell_type": "code",
   "execution_count": 52,
   "id": "ff26eede",
   "metadata": {},
   "outputs": [],
   "source": [
    "import tensorflow as tf\n",
    "import tensorflow.keras as keras\n",
    "import pandas as pd\n",
    "import numpy as np"
   ]
  },
  {
   "cell_type": "markdown",
   "id": "3f06a701",
   "metadata": {},
   "source": [
    "**Loading dataset**"
   ]
  },
  {
   "cell_type": "code",
   "execution_count": 53,
   "id": "a84ef8ba",
   "metadata": {},
   "outputs": [],
   "source": [
    "imdb_reviews = pd.read_csv(\"IMDB_Dataset.csv\")\n",
    "test_reviews = pd.read_csv(\"IMDB_Test.csv\")"
   ]
  },
  {
   "cell_type": "code",
   "execution_count": 54,
   "id": "580e4cd2",
   "metadata": {},
   "outputs": [
    {
     "data": {
      "text/html": [
       "<div>\n",
       "<style scoped>\n",
       "    .dataframe tbody tr th:only-of-type {\n",
       "        vertical-align: middle;\n",
       "    }\n",
       "\n",
       "    .dataframe tbody tr th {\n",
       "        vertical-align: top;\n",
       "    }\n",
       "\n",
       "    .dataframe thead th {\n",
       "        text-align: right;\n",
       "    }\n",
       "</style>\n",
       "<table border=\"1\" class=\"dataframe\">\n",
       "  <thead>\n",
       "    <tr style=\"text-align: right;\">\n",
       "      <th></th>\n",
       "      <th>review</th>\n",
       "      <th>sentiment</th>\n",
       "    </tr>\n",
       "  </thead>\n",
       "  <tbody>\n",
       "    <tr>\n",
       "      <th>0</th>\n",
       "      <td>One of the other reviewers has mentioned that ...</td>\n",
       "      <td>positive</td>\n",
       "    </tr>\n",
       "    <tr>\n",
       "      <th>1</th>\n",
       "      <td>A wonderful little production. &lt;br /&gt;&lt;br /&gt;The...</td>\n",
       "      <td>positive</td>\n",
       "    </tr>\n",
       "    <tr>\n",
       "      <th>2</th>\n",
       "      <td>I thought this was a wonderful way to spend ti...</td>\n",
       "      <td>positive</td>\n",
       "    </tr>\n",
       "    <tr>\n",
       "      <th>3</th>\n",
       "      <td>Basically there's a family where a little boy ...</td>\n",
       "      <td>negative</td>\n",
       "    </tr>\n",
       "    <tr>\n",
       "      <th>4</th>\n",
       "      <td>Petter Mattei's \"Love in the Time of Money\" is...</td>\n",
       "      <td>positive</td>\n",
       "    </tr>\n",
       "  </tbody>\n",
       "</table>\n",
       "</div>"
      ],
      "text/plain": [
       "                                              review sentiment\n",
       "0  One of the other reviewers has mentioned that ...  positive\n",
       "1  A wonderful little production. <br /><br />The...  positive\n",
       "2  I thought this was a wonderful way to spend ti...  positive\n",
       "3  Basically there's a family where a little boy ...  negative\n",
       "4  Petter Mattei's \"Love in the Time of Money\" is...  positive"
      ]
     },
     "execution_count": 54,
     "metadata": {},
     "output_type": "execute_result"
    }
   ],
   "source": [
    "imdb_reviews.head()"
   ]
  },
  {
   "cell_type": "markdown",
   "id": "2c00d6d5",
   "metadata": {},
   "source": [
    "**word Index**"
   ]
  },
  {
   "cell_type": "code",
   "execution_count": 55,
   "id": "8848f3a8",
   "metadata": {},
   "outputs": [],
   "source": [
    "word_index = pd.read_csv(\"word_index.csv\")"
   ]
  },
  {
   "cell_type": "code",
   "execution_count": 56,
   "id": "bf45f72a",
   "metadata": {},
   "outputs": [
    {
     "data": {
      "text/html": [
       "<div>\n",
       "<style scoped>\n",
       "    .dataframe tbody tr th:only-of-type {\n",
       "        vertical-align: middle;\n",
       "    }\n",
       "\n",
       "    .dataframe tbody tr th {\n",
       "        vertical-align: top;\n",
       "    }\n",
       "\n",
       "    .dataframe thead th {\n",
       "        text-align: right;\n",
       "    }\n",
       "</style>\n",
       "<table border=\"1\" class=\"dataframe\">\n",
       "  <thead>\n",
       "    <tr style=\"text-align: right;\">\n",
       "      <th></th>\n",
       "      <th>word</th>\n",
       "      <th>index</th>\n",
       "    </tr>\n",
       "  </thead>\n",
       "  <tbody>\n",
       "    <tr>\n",
       "      <th>0</th>\n",
       "      <td>the</td>\n",
       "      <td>4</td>\n",
       "    </tr>\n",
       "    <tr>\n",
       "      <th>1</th>\n",
       "      <td>a</td>\n",
       "      <td>5</td>\n",
       "    </tr>\n",
       "    <tr>\n",
       "      <th>2</th>\n",
       "      <td>and</td>\n",
       "      <td>6</td>\n",
       "    </tr>\n",
       "    <tr>\n",
       "      <th>3</th>\n",
       "      <td>of</td>\n",
       "      <td>7</td>\n",
       "    </tr>\n",
       "    <tr>\n",
       "      <th>4</th>\n",
       "      <td>to</td>\n",
       "      <td>8</td>\n",
       "    </tr>\n",
       "    <tr>\n",
       "      <th>5</th>\n",
       "      <td>is</td>\n",
       "      <td>9</td>\n",
       "    </tr>\n",
       "    <tr>\n",
       "      <th>6</th>\n",
       "      <td>in</td>\n",
       "      <td>10</td>\n",
       "    </tr>\n",
       "    <tr>\n",
       "      <th>7</th>\n",
       "      <td>i</td>\n",
       "      <td>11</td>\n",
       "    </tr>\n",
       "    <tr>\n",
       "      <th>8</th>\n",
       "      <td>this</td>\n",
       "      <td>12</td>\n",
       "    </tr>\n",
       "    <tr>\n",
       "      <th>9</th>\n",
       "      <td>that</td>\n",
       "      <td>13</td>\n",
       "    </tr>\n",
       "  </tbody>\n",
       "</table>\n",
       "</div>"
      ],
      "text/plain": [
       "   word  index\n",
       "0   the      4\n",
       "1     a      5\n",
       "2   and      6\n",
       "3    of      7\n",
       "4    to      8\n",
       "5    is      9\n",
       "6    in     10\n",
       "7     i     11\n",
       "8  this     12\n",
       "9  that     13"
      ]
     },
     "execution_count": 56,
     "metadata": {},
     "output_type": "execute_result"
    }
   ],
   "source": [
    "word_index.head(n=10)"
   ]
  },
  {
   "cell_type": "code",
   "execution_count": 57,
   "id": "edd3238e",
   "metadata": {},
   "outputs": [],
   "source": [
    "word_index = dict(zip(word_index.word,word_index.index))"
   ]
  },
  {
   "cell_type": "code",
   "execution_count": 58,
   "id": "4e7f329f",
   "metadata": {},
   "outputs": [],
   "source": [
    "word_index[\"<PAD>\"] = 0\n",
    "word_index[\"<START>\"] = 1\n",
    "word_index[\"<UNK>\"] = 2\n",
    "word_index[\"<UNUSED>\"] = 3"
   ]
  },
  {
   "cell_type": "code",
   "execution_count": 59,
   "id": "34eb38f0",
   "metadata": {},
   "outputs": [],
   "source": [
    "def review_encoder(text):\n",
    "    return [word_index.get(word.lower(), word_index.get(\"<OOV>\")) for word in text] "
   ]
  },
  {
   "cell_type": "markdown",
   "id": "4de78d51",
   "metadata": {},
   "source": [
    "**Review & Sentiment Split**"
   ]
  },
  {
   "cell_type": "code",
   "execution_count": 60,
   "id": "b6136760",
   "metadata": {},
   "outputs": [],
   "source": [
    "train_data,train_labels = imdb_reviews['review'],imdb_reviews['sentiment']\n",
    "test_data,test_labels = test_reviews['review'],test_reviews['sentiment']"
   ]
  },
  {
   "cell_type": "code",
   "execution_count": 61,
   "id": "551fdaf1",
   "metadata": {},
   "outputs": [],
   "source": [
    "train_data = train_data.apply(lambda review:review.split())\n",
    "test_data = test_data.apply(lambda review:review.split())"
   ]
  },
  {
   "cell_type": "code",
   "execution_count": 62,
   "id": "0879038e",
   "metadata": {},
   "outputs": [],
   "source": [
    "def review_encoder_limited(text):\n",
    "    encoded = [word_index.get(word.lower(), word_index.get(\"<UNK>\")) for word in text]\n",
    "    return [index if index < 10000 else word_index[\"<UNK>\"] for index in encoded]\n",
    "\n",
    "train_data = train_data.apply(review_encoder_limited)\n",
    "test_data = test_data.apply(review_encoder_limited)\n"
   ]
  },
  {
   "cell_type": "code",
   "execution_count": 63,
   "id": "ceca1df9",
   "metadata": {},
   "outputs": [],
   "source": [
    "def encode_sentiments(sentiment):\n",
    "    if sentiment == 'positive' :\n",
    "        return 1\n",
    "    else :\n",
    "        return 0\n",
    "    \n",
    "train_labels = train_labels.apply(encode_sentiments)\n",
    "test_labels = test_labels.apply(encode_sentiments)"
   ]
  },
  {
   "cell_type": "code",
   "execution_count": 64,
   "id": "c718a372",
   "metadata": {},
   "outputs": [],
   "source": [
    "train_data = keras.preprocessing.sequence.pad_sequences(train_data, value=word_index[\"<PAD>\"],padding='post',maxlen=500)\n",
    "test_data = keras.preprocessing.sequence.pad_sequences(test_data, value=word_index[\"<PAD>\"],padding='post',maxlen=500)"
   ]
  },
  {
   "cell_type": "markdown",
   "id": "6286f6a3",
   "metadata": {},
   "source": [
    "**Model Creation**"
   ]
  },
  {
   "cell_type": "code",
   "execution_count": 65,
   "id": "165b78d0",
   "metadata": {},
   "outputs": [
    {
     "name": "stderr",
     "output_type": "stream",
     "text": [
      "C:\\Users\\acer\\AppData\\Local\\Packages\\PythonSoftwareFoundation.Python.3.12_qbz5n2kfra8p0\\LocalCache\\local-packages\\Python312\\site-packages\\keras\\src\\layers\\core\\embedding.py:90: UserWarning: Argument `input_length` is deprecated. Just remove it.\n",
      "  warnings.warn(\n"
     ]
    }
   ],
   "source": [
    "model = keras.Sequential([keras.layers.Embedding(10000,16,input_length=500),\n",
    "                         keras.layers.GlobalAveragePooling1D(),\n",
    "                         keras.layers.Dense(16,activation='relu'),\n",
    "                         keras.layers.Dense(1,activation='sigmoid')])"
   ]
  },
  {
   "cell_type": "code",
   "execution_count": 66,
   "id": "96831741",
   "metadata": {},
   "outputs": [],
   "source": [
    "model.compile(optimizer='adam',loss='binary_crossentropy',metrics=['accuracy'])"
   ]
  },
  {
   "cell_type": "code",
   "execution_count": 67,
   "id": "6c19e599",
   "metadata": {},
   "outputs": [
    {
     "name": "stdout",
     "output_type": "stream",
     "text": [
      "Epoch 1/30\n",
      "\u001b[1m79/79\u001b[0m \u001b[32m━━━━━━━━━━━━━━━━━━━━\u001b[0m\u001b[37m\u001b[0m \u001b[1m3s\u001b[0m 29ms/step - accuracy: 0.5448 - loss: 0.6908 - val_accuracy: 0.5617 - val_loss: 0.6764\n",
      "Epoch 2/30\n",
      "\u001b[1m79/79\u001b[0m \u001b[32m━━━━━━━━━━━━━━━━━━━━\u001b[0m\u001b[37m\u001b[0m \u001b[1m2s\u001b[0m 30ms/step - accuracy: 0.6433 - loss: 0.6652 - val_accuracy: 0.6703 - val_loss: 0.6267\n",
      "Epoch 3/30\n",
      "\u001b[1m79/79\u001b[0m \u001b[32m━━━━━━━━━━━━━━━━━━━━\u001b[0m\u001b[37m\u001b[0m \u001b[1m2s\u001b[0m 28ms/step - accuracy: 0.7251 - loss: 0.6060 - val_accuracy: 0.7758 - val_loss: 0.5473\n",
      "Epoch 4/30\n",
      "\u001b[1m79/79\u001b[0m \u001b[32m━━━━━━━━━━━━━━━━━━━━\u001b[0m\u001b[37m\u001b[0m \u001b[1m2s\u001b[0m 31ms/step - accuracy: 0.7783 - loss: 0.5286 - val_accuracy: 0.8127 - val_loss: 0.4805\n",
      "Epoch 5/30\n",
      "\u001b[1m79/79\u001b[0m \u001b[32m━━━━━━━━━━━━━━━━━━━━\u001b[0m\u001b[37m\u001b[0m \u001b[1m3s\u001b[0m 39ms/step - accuracy: 0.8190 - loss: 0.4614 - val_accuracy: 0.8229 - val_loss: 0.4313\n",
      "Epoch 6/30\n",
      "\u001b[1m79/79\u001b[0m \u001b[32m━━━━━━━━━━━━━━━━━━━━\u001b[0m\u001b[37m\u001b[0m \u001b[1m4s\u001b[0m 25ms/step - accuracy: 0.8327 - loss: 0.4168 - val_accuracy: 0.8478 - val_loss: 0.3936\n",
      "Epoch 7/30\n",
      "\u001b[1m79/79\u001b[0m \u001b[32m━━━━━━━━━━━━━━━━━━━━\u001b[0m\u001b[37m\u001b[0m \u001b[1m3s\u001b[0m 23ms/step - accuracy: 0.8541 - loss: 0.3785 - val_accuracy: 0.8380 - val_loss: 0.3806\n",
      "Epoch 8/30\n",
      "\u001b[1m79/79\u001b[0m \u001b[32m━━━━━━━━━━━━━━━━━━━━\u001b[0m\u001b[37m\u001b[0m \u001b[1m2s\u001b[0m 27ms/step - accuracy: 0.8636 - loss: 0.3527 - val_accuracy: 0.8430 - val_loss: 0.3637\n",
      "Epoch 9/30\n",
      "\u001b[1m79/79\u001b[0m \u001b[32m━━━━━━━━━━━━━━━━━━━━\u001b[0m\u001b[37m\u001b[0m \u001b[1m2s\u001b[0m 30ms/step - accuracy: 0.8660 - loss: 0.3353 - val_accuracy: 0.8685 - val_loss: 0.3373\n",
      "Epoch 10/30\n",
      "\u001b[1m79/79\u001b[0m \u001b[32m━━━━━━━━━━━━━━━━━━━━\u001b[0m\u001b[37m\u001b[0m \u001b[1m3s\u001b[0m 29ms/step - accuracy: 0.8740 - loss: 0.3177 - val_accuracy: 0.8357 - val_loss: 0.3597\n",
      "Epoch 11/30\n",
      "\u001b[1m79/79\u001b[0m \u001b[32m━━━━━━━━━━━━━━━━━━━━\u001b[0m\u001b[37m\u001b[0m \u001b[1m2s\u001b[0m 28ms/step - accuracy: 0.8689 - loss: 0.3156 - val_accuracy: 0.8716 - val_loss: 0.3227\n",
      "Epoch 12/30\n",
      "\u001b[1m79/79\u001b[0m \u001b[32m━━━━━━━━━━━━━━━━━━━━\u001b[0m\u001b[37m\u001b[0m \u001b[1m2s\u001b[0m 27ms/step - accuracy: 0.8711 - loss: 0.3092 - val_accuracy: 0.8743 - val_loss: 0.3150\n",
      "Epoch 13/30\n",
      "\u001b[1m79/79\u001b[0m \u001b[32m━━━━━━━━━━━━━━━━━━━━\u001b[0m\u001b[37m\u001b[0m \u001b[1m2s\u001b[0m 26ms/step - accuracy: 0.8879 - loss: 0.2870 - val_accuracy: 0.8681 - val_loss: 0.3150\n",
      "Epoch 14/30\n",
      "\u001b[1m79/79\u001b[0m \u001b[32m━━━━━━━━━━━━━━━━━━━━\u001b[0m\u001b[37m\u001b[0m \u001b[1m2s\u001b[0m 28ms/step - accuracy: 0.8933 - loss: 0.2754 - val_accuracy: 0.8751 - val_loss: 0.3091\n",
      "Epoch 15/30\n",
      "\u001b[1m79/79\u001b[0m \u001b[32m━━━━━━━━━━━━━━━━━━━━\u001b[0m\u001b[37m\u001b[0m \u001b[1m2s\u001b[0m 27ms/step - accuracy: 0.8861 - loss: 0.2808 - val_accuracy: 0.8838 - val_loss: 0.2980\n",
      "Epoch 16/30\n",
      "\u001b[1m79/79\u001b[0m \u001b[32m━━━━━━━━━━━━━━━━━━━━\u001b[0m\u001b[37m\u001b[0m \u001b[1m2s\u001b[0m 26ms/step - accuracy: 0.8958 - loss: 0.2649 - val_accuracy: 0.8044 - val_loss: 0.4132\n",
      "Epoch 17/30\n",
      "\u001b[1m79/79\u001b[0m \u001b[32m━━━━━━━━━━━━━━━━━━━━\u001b[0m\u001b[37m\u001b[0m \u001b[1m2s\u001b[0m 26ms/step - accuracy: 0.8815 - loss: 0.2847 - val_accuracy: 0.8676 - val_loss: 0.3103\n",
      "Epoch 18/30\n",
      "\u001b[1m79/79\u001b[0m \u001b[32m━━━━━━━━━━━━━━━━━━━━\u001b[0m\u001b[37m\u001b[0m \u001b[1m2s\u001b[0m 27ms/step - accuracy: 0.8981 - loss: 0.2547 - val_accuracy: 0.8518 - val_loss: 0.3354\n",
      "Epoch 19/30\n",
      "\u001b[1m79/79\u001b[0m \u001b[32m━━━━━━━━━━━━━━━━━━━━\u001b[0m\u001b[37m\u001b[0m \u001b[1m2s\u001b[0m 29ms/step - accuracy: 0.8943 - loss: 0.2582 - val_accuracy: 0.8851 - val_loss: 0.2874\n",
      "Epoch 20/30\n",
      "\u001b[1m79/79\u001b[0m \u001b[32m━━━━━━━━━━━━━━━━━━━━\u001b[0m\u001b[37m\u001b[0m \u001b[1m2s\u001b[0m 30ms/step - accuracy: 0.9077 - loss: 0.2412 - val_accuracy: 0.8795 - val_loss: 0.2926\n",
      "Epoch 21/30\n",
      "\u001b[1m79/79\u001b[0m \u001b[32m━━━━━━━━━━━━━━━━━━━━\u001b[0m\u001b[37m\u001b[0m \u001b[1m2s\u001b[0m 30ms/step - accuracy: 0.9111 - loss: 0.2343 - val_accuracy: 0.8585 - val_loss: 0.3229\n",
      "Epoch 22/30\n",
      "\u001b[1m79/79\u001b[0m \u001b[32m━━━━━━━━━━━━━━━━━━━━\u001b[0m\u001b[37m\u001b[0m \u001b[1m2s\u001b[0m 29ms/step - accuracy: 0.9026 - loss: 0.2453 - val_accuracy: 0.8702 - val_loss: 0.3050\n",
      "Epoch 23/30\n",
      "\u001b[1m79/79\u001b[0m \u001b[32m━━━━━━━━━━━━━━━━━━━━\u001b[0m\u001b[37m\u001b[0m \u001b[1m2s\u001b[0m 31ms/step - accuracy: 0.9102 - loss: 0.2331 - val_accuracy: 0.8866 - val_loss: 0.2833\n",
      "Epoch 24/30\n",
      "\u001b[1m79/79\u001b[0m \u001b[32m━━━━━━━━━━━━━━━━━━━━\u001b[0m\u001b[37m\u001b[0m \u001b[1m2s\u001b[0m 30ms/step - accuracy: 0.9148 - loss: 0.2244 - val_accuracy: 0.8620 - val_loss: 0.3178\n",
      "Epoch 25/30\n",
      "\u001b[1m79/79\u001b[0m \u001b[32m━━━━━━━━━━━━━━━━━━━━\u001b[0m\u001b[37m\u001b[0m \u001b[1m2s\u001b[0m 26ms/step - accuracy: 0.9054 - loss: 0.2355 - val_accuracy: 0.8687 - val_loss: 0.3038\n",
      "Epoch 26/30\n",
      "\u001b[1m79/79\u001b[0m \u001b[32m━━━━━━━━━━━━━━━━━━━━\u001b[0m\u001b[37m\u001b[0m \u001b[1m2s\u001b[0m 27ms/step - accuracy: 0.9110 - loss: 0.2255 - val_accuracy: 0.8721 - val_loss: 0.3047\n",
      "Epoch 27/30\n",
      "\u001b[1m79/79\u001b[0m \u001b[32m━━━━━━━━━━━━━━━━━━━━\u001b[0m\u001b[37m\u001b[0m \u001b[1m2s\u001b[0m 26ms/step - accuracy: 0.9142 - loss: 0.2191 - val_accuracy: 0.8818 - val_loss: 0.2855\n",
      "Epoch 28/30\n",
      "\u001b[1m79/79\u001b[0m \u001b[32m━━━━━━━━━━━━━━━━━━━━\u001b[0m\u001b[37m\u001b[0m \u001b[1m2s\u001b[0m 26ms/step - accuracy: 0.9198 - loss: 0.2105 - val_accuracy: 0.8730 - val_loss: 0.2981\n",
      "Epoch 29/30\n",
      "\u001b[1m79/79\u001b[0m \u001b[32m━━━━━━━━━━━━━━━━━━━━\u001b[0m\u001b[37m\u001b[0m \u001b[1m2s\u001b[0m 26ms/step - accuracy: 0.9161 - loss: 0.2144 - val_accuracy: 0.8911 - val_loss: 0.2762\n",
      "Epoch 30/30\n",
      "\u001b[1m79/79\u001b[0m \u001b[32m━━━━━━━━━━━━━━━━━━━━\u001b[0m\u001b[37m\u001b[0m \u001b[1m2s\u001b[0m 26ms/step - accuracy: 0.9185 - loss: 0.2105 - val_accuracy: 0.8851 - val_loss: 0.2847\n"
     ]
    }
   ],
   "source": [
    "history = model.fit(train_data,train_labels,epochs=30,batch_size=512,validation_data=(test_data,test_labels))"
   ]
  },
  {
   "cell_type": "code",
   "execution_count": 68,
   "id": "6d71e67f",
   "metadata": {},
   "outputs": [
    {
     "name": "stdout",
     "output_type": "stream",
     "text": [
      "\u001b[1m313/313\u001b[0m \u001b[32m━━━━━━━━━━━━━━━━━━━━\u001b[0m\u001b[37m\u001b[0m \u001b[1m1s\u001b[0m 2ms/step - accuracy: 0.8892 - loss: 0.2840\n"
     ]
    }
   ],
   "source": [
    "loss,accuracy=model.evaluate(test_data,test_labels)"
   ]
  },
  {
   "cell_type": "markdown",
   "id": "917c2b1e",
   "metadata": {},
   "source": [
    "**Testing Model**"
   ]
  },
  {
   "cell_type": "code",
   "execution_count": 69,
   "id": "941d19d4",
   "metadata": {},
   "outputs": [],
   "source": [
    "index=np.random.randint(1,1000)"
   ]
  },
  {
   "cell_type": "code",
   "execution_count": 70,
   "id": "35c7e4a7",
   "metadata": {},
   "outputs": [
    {
     "name": "stdout",
     "output_type": "stream",
     "text": [
      "review       MGM tried pairing up and coming young men with...\n",
      "sentiment                                             negative\n",
      "Name: 500, dtype: object\n"
     ]
    }
   ],
   "source": [
    "user_review=test_reviews.loc[index]\n",
    "print(user_review)"
   ]
  },
  {
   "cell_type": "code",
   "execution_count": 71,
   "id": "0ecc5bb3",
   "metadata": {},
   "outputs": [
    {
     "name": "stdout",
     "output_type": "stream",
     "text": [
      "\u001b[1m1/1\u001b[0m \u001b[32m━━━━━━━━━━━━━━━━━━━━\u001b[0m\u001b[37m\u001b[0m \u001b[1m0s\u001b[0m 91ms/step\n",
      "negative sentiment\n"
     ]
    }
   ],
   "source": [
    "user_review = test_data[index]\n",
    "user_review = np.array([user_review])\n",
    "if(model.predict(user_review) > 0.5).astype(\"int32\"):\n",
    "    print(\"positive sentiment\")\n",
    "else :\n",
    "    print(\"negative sentiment\")"
   ]
  }
 ],
 "metadata": {
  "kernelspec": {
   "display_name": "Python 3",
   "language": "python",
   "name": "python3"
  },
  "language_info": {
   "codemirror_mode": {
    "name": "ipython",
    "version": 3
   },
   "file_extension": ".py",
   "mimetype": "text/x-python",
   "name": "python",
   "nbconvert_exporter": "python",
   "pygments_lexer": "ipython3",
   "version": "3.12.10"
  }
 },
 "nbformat": 4,
 "nbformat_minor": 5
}
